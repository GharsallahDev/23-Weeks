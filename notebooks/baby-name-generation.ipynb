{
  "nbformat": 4,
  "nbformat_minor": 0,
  "metadata": {
    "colab": {
      "provenance": [],
      "gpuType": "T4"
    },
    "kernelspec": {
      "name": "python3",
      "display_name": "Python 3"
    },
    "language_info": {
      "name": "python"
    },
    "accelerator": "GPU"
  },
  "cells": [
    {
      "cell_type": "markdown",
      "source": [
        "**Importing necessary libraries**\n"
      ],
      "metadata": {
        "id": "olS1YxUnSOpW"
      }
    },
    {
      "cell_type": "code",
      "source": [
        "import numpy as np\n",
        "from utils import *\n",
        "import random"
      ],
      "metadata": {
        "id": "Gy5P5JR9OuiC"
      },
      "execution_count": 2,
      "outputs": []
    },
    {
      "cell_type": "markdown",
      "source": [
        "**Dataset and Preprocessing**"
      ],
      "metadata": {
        "id": "7oaj_jXgSKcd"
      }
    },
    {
      "cell_type": "code",
      "source": [
        "#Open and read file\n",
        "data = open('girlname.txt', 'r').read()\n",
        "\n",
        "#convert to lowercase\n",
        "data= data.lower()\n",
        "\n",
        "#Creating a set with unique characters and converting it to a list\n",
        "chars = list(set(data))\n",
        "\n",
        "data_size, vocab_size = len(data), len(chars)\n",
        "print('There are %d total characters and %d unique characters in your data.' % (data_size, vocab_size))"
      ],
      "metadata": {
        "colab": {
          "base_uri": "https://localhost:8080/"
        },
        "id": "VmJFiOzRP4Ai",
        "outputId": "9cbbbcfc-ffd0-4167-b5da-e175931aa524"
      },
      "execution_count": 3,
      "outputs": [
        {
          "output_type": "stream",
          "name": "stdout",
          "text": [
            "There are 895940 total characters and 27 unique characters in your data.\n"
          ]
        }
      ]
    },
    {
      "cell_type": "code",
      "source": [
        "#create a dictionnary that maps sorted characters to indices, providing an index for each unique character\n",
        "# The dictionary comprehension constructs a mapping from each character `ch` to its corresponding index `i`\n",
        "char_to_ix = { ch:i for i,ch in enumerate(sorted(chars)) }\n",
        "ix_to_char = { i:ch for i,ch in enumerate(sorted(chars)) }\n",
        "print(char_to_ix)\n",
        "print(ix_to_char)"
      ],
      "metadata": {
        "colab": {
          "base_uri": "https://localhost:8080/"
        },
        "id": "rKGDrUo6P7X0",
        "outputId": "1b308085-dbec-45f0-9794-1377673ceea1"
      },
      "execution_count": 4,
      "outputs": [
        {
          "output_type": "stream",
          "name": "stdout",
          "text": [
            "{'\\n': 0, 'a': 1, 'b': 2, 'c': 3, 'd': 4, 'e': 5, 'f': 6, 'g': 7, 'h': 8, 'i': 9, 'j': 10, 'k': 11, 'l': 12, 'm': 13, 'n': 14, 'o': 15, 'p': 16, 'q': 17, 'r': 18, 's': 19, 't': 20, 'u': 21, 'v': 22, 'w': 23, 'x': 24, 'y': 25, 'z': 26}\n",
            "{0: '\\n', 1: 'a', 2: 'b', 3: 'c', 4: 'd', 5: 'e', 6: 'f', 7: 'g', 8: 'h', 9: 'i', 10: 'j', 11: 'k', 12: 'l', 13: 'm', 14: 'n', 15: 'o', 16: 'p', 17: 'q', 18: 'r', 19: 's', 20: 't', 21: 'u', 22: 'v', 23: 'w', 24: 'x', 25: 'y', 26: 'z'}\n"
          ]
        }
      ]
    },
    {
      "cell_type": "code",
      "source": [
        "def clip(gradients, maxValue):\n",
        "    '''\n",
        "    Clips the gradients' values between minimum and maximum.\n",
        "\n",
        "    Arguments:\n",
        "    gradients -- a dictionary containing the gradients \"dWaa\", \"dWax\", \"dWya\", \"db\", \"dby\"\n",
        "    maxValue -- everything above this number is set to this number, and everything less than -maxValue is set to -maxValue\n",
        "\n",
        "    Returns:\n",
        "    gradients -- a dictionary with the clipped gradients.\n",
        "    '''\n",
        "\n",
        "    dWaa, dWax, dWya, db, dby = gradients['dWaa'], gradients['dWax'], gradients['dWya'], gradients['db'], gradients['dby']\n",
        "\n",
        "    # clip to mitigate exploding gradients, loop over [dWax, dWaa, dWya, db, dby]. (≈2 lines)\n",
        "    for gradient in [dWax, dWaa, dWya, db, dby]:\n",
        "        np.clip(gradient, -maxValue, maxValue, out=gradient)\n",
        "\n",
        "\n",
        "    gradients = {\"dWaa\": dWaa, \"dWax\": dWax, \"dWya\": dWya, \"db\": db, \"dby\": dby}\n",
        "\n",
        "    return gradients"
      ],
      "metadata": {
        "id": "zvqa33oMP-s8"
      },
      "execution_count": 5,
      "outputs": []
    },
    {
      "cell_type": "code",
      "source": [
        "#Generate and test gradient values\n",
        "np.random.seed(3)\n",
        "\n",
        "# Initializes the random number generator with a seed value of 3. This ensures that the random numbers generated in this script are reproducible.\n",
        "dWax = np.random.randn(5,3)*10\n",
        "dWaa = np.random.randn(5,5)*10\n",
        "dWya = np.random.randn(2,5)*10\n",
        "db = np.random.randn(5,1)*10\n",
        "dby = np.random.randn(2,1)*10\n",
        "gradients = {\"dWax\": dWax, \"dWaa\": dWaa, \"dWya\": dWya, \"db\": db, \"dby\": dby}\n",
        "gradients = clip(gradients, 10)\n",
        "\n",
        "print(\"gradients[\\\"dWaa\\\"][1][2] =\", gradients[\"dWaa\"][1][2])\n",
        "print(\"gradients[\\\"dWax\\\"][3][1] =\", gradients[\"dWax\"][3][1])\n",
        "print(\"gradients[\\\"dWya\\\"][1][2] =\", gradients[\"dWya\"][1][2])\n",
        "print(\"gradients[\\\"db\\\"][4] =\", gradients[\"db\"][4])\n",
        "print(\"gradients[\\\"dby\\\"][1] =\", gradients[\"dby\"][1])"
      ],
      "metadata": {
        "colab": {
          "base_uri": "https://localhost:8080/"
        },
        "id": "oGIhgMayQBxU",
        "outputId": "3ef47ace-9136-47cc-c169-3ab0dd022913"
      },
      "execution_count": 6,
      "outputs": [
        {
          "output_type": "stream",
          "name": "stdout",
          "text": [
            "gradients[\"dWaa\"][1][2] = 10.0\n",
            "gradients[\"dWax\"][3][1] = -10.0\n",
            "gradients[\"dWya\"][1][2] = 0.2971381536101662\n",
            "gradients[\"db\"][4] = [10.]\n",
            "gradients[\"dby\"][1] = [8.45833407]\n"
          ]
        }
      ]
    },
    {
      "cell_type": "code",
      "source": [
        "def sample(parameters, char_to_ix, seed):\n",
        "    \"\"\"\n",
        "    Sample a sequence of characters according to a sequence of probability distributions output of the RNN\n",
        "\n",
        "    Arguments:\n",
        "    parameters -- python dictionary containing the parameters Waa, Wax, Wya, by, and b.\n",
        "    char_to_ix -- python dictionary mapping each character to an index.\n",
        "    seed -- used for grading purposes. Do not worry about it.\n",
        "\n",
        "    Returns:\n",
        "    indices -- a list of length n containing the indices of the sampled characters.\n",
        "    \"\"\"\n",
        "\n",
        "    # Retrieve parameters and relevant shapes from \"parameters\" dictionary\n",
        "    Waa, Wax, Wya, by, b = parameters['Waa'], parameters['Wax'], parameters['Wya'], parameters['by'], parameters['b']\n",
        "    vocab_size = by.shape[0]\n",
        "    n_a = Waa.shape[1]\n",
        "\n",
        "    # Step 1: Create the one-hot vector x for the first character (initializing the sequence generation). (≈1 line)\n",
        "    x = np.zeros((vocab_size,1))\n",
        "    # Step 1': Initialize a_prev as zeros (≈1 line)\n",
        "    a_prev = np.zeros((n_a,1))\n",
        "\n",
        "    # Create an empty list of indices, this is the list which will contain the list of indices of the characters to generate (≈1 line)\n",
        "    indices = []\n",
        "\n",
        "    # Idx is a flag to detect a newline character, we initialize it to -1\n",
        "    idx = -1\n",
        "\n",
        "    # Loop over time-steps t. At each time-step, sample a character from a probability distribution and append\n",
        "    # its index to \"indices\". We'll stop if we reach 50 characters (which should be very unlikely with a well\n",
        "    # trained model), which helps debugging and prevents entering an infinite loop.\n",
        "    counter = 0\n",
        "    newline_character = char_to_ix['\\n']\n",
        "\n",
        "    while (idx != newline_character and counter != 50):\n",
        "\n",
        "        # Step 2: Forward propagate x using the equations (1), (2) and (3)\n",
        "        a = np.tanh(np.add(np.add(np.dot(Wax,x),np.dot(Waa,a_prev)),b))\n",
        "        z = np.add(np.dot(Wya,a),by)\n",
        "        y = softmax(z)\n",
        "\n",
        "        # for grading purposes\n",
        "        np.random.seed(counter+seed)\n",
        "\n",
        "        # Step 3: Sample the index of a character within the vocabulary from the probability distribution y\n",
        "        idx = np.random.choice(list(range(vocab_size)), p=y.ravel())\n",
        "\n",
        "        # Append the index to \"indices\"\n",
        "        indices.append(idx)\n",
        "\n",
        "        # Step 4: Overwrite the input character as the one corresponding to the sampled index.\n",
        "        x = np.zeros((vocab_size,1))\n",
        "        x[idx] = 1\n",
        "\n",
        "        # Update \"a_prev\" to be \"a\"\n",
        "        a_prev = a\n",
        "\n",
        "        # for grading purposes\n",
        "        seed += 1\n",
        "        counter +=1\n",
        "\n",
        "\n",
        "    if (counter == 50):\n",
        "        indices.append(char_to_ix['\\n'])\n",
        "\n",
        "    return indices"
      ],
      "metadata": {
        "id": "-Fia7NerQFji"
      },
      "execution_count": 7,
      "outputs": []
    },
    {
      "cell_type": "code",
      "source": [
        "np.random.seed(2)\n",
        "_, n_a = 20, 100\n",
        "Wax, Waa, Wya = np.random.randn(n_a, vocab_size), np.random.randn(n_a, n_a), np.random.randn(vocab_size, n_a)\n",
        "b, by = np.random.randn(n_a, 1), np.random.randn(vocab_size, 1)\n",
        "parameters = {\"Wax\": Wax, \"Waa\": Waa, \"Wya\": Wya, \"b\": b, \"by\": by}\n",
        "\n",
        "\n",
        "indices = sample(parameters, char_to_ix, 0)\n",
        "print(\"Sampling:\")\n",
        "print(\"list of sampled indices:\", indices)\n",
        "print(\"list of sampled characters:\", [ix_to_char[i] for i in indices])"
      ],
      "metadata": {
        "colab": {
          "base_uri": "https://localhost:8080/"
        },
        "id": "XG8QLXhkQIv6",
        "outputId": "976f9508-43a5-4b31-ec73-49c770424878"
      },
      "execution_count": 8,
      "outputs": [
        {
          "output_type": "stream",
          "name": "stdout",
          "text": [
            "Sampling:\n",
            "list of sampled indices: [12, 17, 24, 14, 13, 9, 10, 22, 24, 6, 13, 11, 12, 6, 21, 15, 21, 14, 3, 2, 1, 21, 18, 24, 7, 25, 6, 25, 18, 10, 16, 2, 3, 8, 15, 12, 11, 7, 1, 12, 10, 2, 7, 3, 11, 17, 24, 12, 19, 2, 0]\n",
            "list of sampled characters: ['l', 'q', 'x', 'n', 'm', 'i', 'j', 'v', 'x', 'f', 'm', 'k', 'l', 'f', 'u', 'o', 'u', 'n', 'c', 'b', 'a', 'u', 'r', 'x', 'g', 'y', 'f', 'y', 'r', 'j', 'p', 'b', 'c', 'h', 'o', 'l', 'k', 'g', 'a', 'l', 'j', 'b', 'g', 'c', 'k', 'q', 'x', 'l', 's', 'b', '\\n']\n"
          ]
        }
      ]
    },
    {
      "cell_type": "markdown",
      "source": [
        "**Building the language model**"
      ],
      "metadata": {
        "id": "LtJ8myrbbwW0"
      }
    },
    {
      "cell_type": "code",
      "source": [
        "def optimize(X, Y, a_prev, parameters, learning_rate = 0.01):\n",
        "    \"\"\"\n",
        "    Execute one step of the optimization to train the model.\n",
        "\n",
        "    Arguments:\n",
        "    X -- list of integers, where each integer is a number that maps to a character in the vocabulary.\n",
        "    Y -- list of integers, exactly the same as X but shifted one index to the left.\n",
        "    a_prev -- previous hidden state.\n",
        "    parameters -- python dictionary containing:\n",
        "                        Wax -- Weight matrix multiplying the input, numpy array of shape (n_a, n_x)\n",
        "                        Waa -- Weight matrix multiplying the hidden state, numpy array of shape (n_a, n_a)\n",
        "                        Wya -- Weight matrix relating the hidden-state to the output, numpy array of shape (n_y, n_a)\n",
        "                        b --  Bias, numpy array of shape (n_a, 1)\n",
        "                        by -- Bias relating the hidden-state to the output, numpy array of shape (n_y, 1)\n",
        "    learning_rate -- learning rate for the model.\n",
        "\n",
        "    Returns:\n",
        "    loss -- value of the loss function (cross-entropy)\n",
        "    gradients -- python dictionary containing:\n",
        "                        dWax -- Gradients of input-to-hidden weights, of shape (n_a, n_x)\n",
        "                        dWaa -- Gradients of hidden-to-hidden weights, of shape (n_a, n_a)\n",
        "                        dWya -- Gradients of hidden-to-output weights, of shape (n_y, n_a)\n",
        "                        db -- Gradients of bias vector, of shape (n_a, 1)\n",
        "                        dby -- Gradients of output bias vector, of shape (n_y, 1)\n",
        "    a[len(X)-1] -- the last hidden state, of shape (n_a, 1)\n",
        "    \"\"\"\n",
        "\n",
        "        # Forward propagate through time (≈1 line)\n",
        "    loss, cache = rnn_forward(X, Y, a_prev, parameters)\n",
        "\n",
        "    # Backpropagate through time (≈1 line)\n",
        "    gradients, a = rnn_backward(X, Y, parameters, cache)\n",
        "\n",
        "    # Clip your gradients between -5 (min) and 5 (max) (≈1 line)\n",
        "    gradients = clip(gradients, 5)\n",
        "\n",
        "    # Update parameters (≈1 line)\n",
        "    parameters = update_parameters(parameters, gradients, learning_rate)\n",
        "\n",
        "\n",
        "    return loss, gradients, a[len(X)-1]"
      ],
      "metadata": {
        "id": "i4V2V3xaQY7A"
      },
      "execution_count": 9,
      "outputs": []
    },
    {
      "cell_type": "code",
      "source": [
        "np.random.seed(1)\n",
        "vocab_size, n_a = 27, 100\n",
        "a_prev = np.random.randn(n_a, 1)\n",
        "Wax, Waa, Wya = np.random.randn(n_a, vocab_size), np.random.randn(n_a, n_a), np.random.randn(vocab_size, n_a)\n",
        "b, by = np.random.randn(n_a, 1), np.random.randn(vocab_size, 1)\n",
        "parameters = {\"Wax\": Wax, \"Waa\": Waa, \"Wya\": Wya, \"b\": b, \"by\": by}\n",
        "X = [12,3,5,11,22,3]\n",
        "Y = [4,14,11,22,25, 26]\n",
        "\n",
        "loss, gradients, a_last = optimize(X, Y, a_prev, parameters, learning_rate = 0.01)\n",
        "print(\"Loss =\", loss)\n",
        "print(\"gradients[\\\"dWaa\\\"][1][2] =\", gradients[\"dWaa\"][1][2])\n",
        "print(\"np.argmax(gradients[\\\"dWax\\\"]) =\", np.argmax(gradients[\"dWax\"]))\n",
        "print(\"gradients[\\\"dWya\\\"][1][2] =\", gradients[\"dWya\"][1][2])\n",
        "print(\"gradients[\\\"db\\\"][4] =\", gradients[\"db\"][4])\n",
        "print(\"gradients[\\\"dby\\\"][1] =\", gradients[\"dby\"][1])\n",
        "print(\"a_last[4] =\", a_last[4])"
      ],
      "metadata": {
        "colab": {
          "base_uri": "https://localhost:8080/"
        },
        "id": "HJUXRK5MQbYy",
        "outputId": "b3946d36-ab41-4467-d3d6-cebe7490dc7f"
      },
      "execution_count": 10,
      "outputs": [
        {
          "output_type": "stream",
          "name": "stdout",
          "text": [
            "Loss = 126.50397572165356\n",
            "gradients[\"dWaa\"][1][2] = 0.19470931534721472\n",
            "np.argmax(gradients[\"dWax\"]) = 93\n",
            "gradients[\"dWya\"][1][2] = -0.007773876032003671\n",
            "gradients[\"db\"][4] = [-0.06809825]\n",
            "gradients[\"dby\"][1] = [0.01538192]\n",
            "a_last[4] = [-1.]\n"
          ]
        }
      ]
    },
    {
      "cell_type": "code",
      "source": [
        "def model(data, ix_to_char, char_to_ix, num_iterations = 50000, n_a = 50, girl_names = 7, vocab_size = 27):\n",
        "    \"\"\"\n",
        "\n",
        "\n",
        "    Arguments:\n",
        "    data -- text corpus\n",
        "    ix_to_char -- dictionary that maps the index to a character\n",
        "    char_to_ix -- dictionary that maps a character to an index\n",
        "    num_iterations -- number of iterations to train the model for\n",
        "    n_a -- number of units of the RNN cell\n",
        "    girl_names -- number of girl names you want to sample at each iteration.\n",
        "    vocab_size -- number of unique characters found in the text, size of the vocabulary\n",
        "\n",
        "    Returns:\n",
        "    parameters -- learned parameters\n",
        "    \"\"\"\n",
        "\n",
        "    # Retrieve n_x and n_y from vocab_size\n",
        "    n_x, n_y = vocab_size, vocab_size\n",
        "\n",
        "    # Initialize parameters\n",
        "    parameters = initialize_parameters(n_a, n_x, n_y)\n",
        "\n",
        "    # Initialize loss (this is required because we want to smooth our loss, don't worry about it)\n",
        "    loss = get_initial_loss(vocab_size, girl_names)\n",
        "\n",
        "    # Build list of all girl names (training examples).\n",
        "    with open(\"girlname.txt\") as f:\n",
        "        examples = f.readlines()\n",
        "    examples = [x.lower().strip() for x in examples]\n",
        "        #print(len(examples))\n",
        "    #print(examples[:5])\n",
        "\n",
        "    # Shuffle list of all girl names\n",
        "    np.random.seed(0)\n",
        "    np.random.shuffle(examples)\n",
        "    #print(examples[:5])\n",
        "\n",
        "    # Initialize the hidden state of your LSTM\n",
        "    a_prev = np.zeros((n_a, 1))\n",
        "\n",
        "    # Optimization loop\n",
        "    for j in range(num_iterations):\n",
        "\n",
        "\n",
        "        # Use the hint above to define one training example (X,Y) (≈ 2 lines)\n",
        "        index = j % len(examples)\n",
        "        #print(index)\n",
        "        X = [None] + [char_to_ix[ch] for ch in examples[index]]\n",
        "        Y = X[1:] + [char_to_ix[\"\\n\"]]\n",
        "        #print(X)\n",
        "        #print(Y)\n",
        "\n",
        "        # Perform one optimization step: Forward-prop -> Backward-prop -> Clip -> Update parameters\n",
        "        # Choose a learning rate of 0.01\n",
        "        curr_loss, gradients, a_prev = optimize(X, Y, a_prev, parameters)\n",
        "\n",
        "\n",
        "        # Use a latency trick to keep the loss smooth. It happens here to accelerate the training.\n",
        "        loss = smooth(loss, curr_loss)\n",
        "\n",
        "        # Every 2000 Iteration, generate \"n\" characters thanks to sample() to check if the model is learning properly\n",
        "\n",
        "        # Every 2000 Iteration, generate \"n\" characters thanks to sample() to check if the model is learning properly\n",
        "        if j % 2000 == 0:\n",
        "\n",
        "            print('Iteration: %d, Loss: %f' % (j, loss) + '\\n')\n",
        "\n",
        "            # The number of girl names to print\n",
        "            seed = 0\n",
        "            for name in range(girl_names):\n",
        "\n",
        "                # Sample indices and print them\n",
        "                sampled_indices = sample(parameters, char_to_ix, seed)\n",
        "                print_sample(sampled_indices, ix_to_char)\n",
        "\n",
        "                seed += 1  # To get the same result for grading purposed, increment the seed by one.\n",
        "\n",
        "            print('\\n')\n",
        "\n",
        "    return parameters"
      ],
      "metadata": {
        "id": "9xL3qa6GQjX7"
      },
      "execution_count": 11,
      "outputs": []
    },
    {
      "cell_type": "code",
      "source": [
        "parameters = model(data, ix_to_char, char_to_ix)"
      ],
      "metadata": {
        "colab": {
          "base_uri": "https://localhost:8080/"
        },
        "id": "ymne6RQgQySd",
        "outputId": "9b6935ae-26a9-4f49-ac2b-1f9dbd29642f"
      },
      "execution_count": 12,
      "outputs": [
        {
          "output_type": "stream",
          "name": "stdout",
          "text": [
            "Iteration: 0, Loss: 23.080747\n",
            "\n",
            "Nkzxwtdmeqoeyhsqwasjjjvu\n",
            "Kneb\n",
            "Kzxwtdmeqoeyhsqwasjjjvu\n",
            "Neb\n",
            "Zxwtdmeqoeyhsqwasjjjvu\n",
            "Eb\n",
            "Xwtdmeqoeyhsqwasjjjvu\n",
            "\n",
            "\n",
            "Iteration: 2000, Loss: 18.729069\n",
            "\n",
            "Levtrna\n",
            "Hjba\n",
            "Iystmacdilatenlpanhedrn\n",
            "La\n",
            "Yssna\n",
            "Ca\n",
            "Trna\n",
            "\n",
            "\n",
            "Iteration: 4000, Loss: 17.124215\n",
            "\n",
            "Levrrlaicgeeugimi\n",
            "Hhaa\n",
            "Ivprmanaa\n",
            "Laa\n",
            "Xrrodganhateqmkargelrl\n",
            "Da\n",
            "Troen\n",
            "\n",
            "\n",
            "Iteration: 6000, Loss: 16.155603\n",
            "\n",
            "Levrorabcgelvalis\n",
            "Jhaa\n",
            "Kusslalcelctanis\n",
            "Laa\n",
            "Vosralalhaverloancelplalmayle\n",
            "Ebablola\n",
            "Srlana\n",
            "\n",
            "\n",
            "Iteration: 8000, Loss: 15.398950\n",
            "\n",
            "Meysti\n",
            "Lie\n",
            "Lytti\n",
            "Maba\n",
            "Vossa\n",
            "Eda\n",
            "Sslea\n",
            "\n",
            "\n",
            "Iteration: 10000, Loss: 15.067770\n",
            "\n",
            "Mayrpia\n",
            "Lica\n",
            "Lytti\n",
            "Maca\n",
            "Vosodda\n",
            "Fa\n",
            "Stibgaal\n",
            "\n",
            "\n",
            "Iteration: 12000, Loss: 14.711532\n",
            "\n",
            "Mayrora\n",
            "Kela\n",
            "Kustia\n",
            "Maca\n",
            "Vorma\n",
            "Ea\n",
            "Ssicia\n",
            "\n",
            "\n",
            "Iteration: 14000, Loss: 14.647743\n",
            "\n",
            "Livorl\n",
            "Jokba\n",
            "Kystie\n",
            "Leba\n",
            "Vossalene\n",
            "Eca\n",
            "Surena\n",
            "\n",
            "\n",
            "Iteration: 16000, Loss: 14.477542\n",
            "\n",
            "Mevrusa\n",
            "Liga\n",
            "Lyttie\n",
            "Mad\n",
            "Vossalene\n",
            "Eda\n",
            "Surena\n",
            "\n",
            "\n",
            "Iteration: 18000, Loss: 14.232489\n",
            "\n",
            "Liwryl\n",
            "Joe\n",
            "Kyrtida\n",
            "Lea\n",
            "Vorn\n",
            "Ee\n",
            "Suona\n",
            "\n",
            "\n",
            "Iteration: 20000, Loss: 14.153904\n",
            "\n",
            "Lixoria\n",
            "Ilea\n",
            "Justidbdenas\n",
            "Lea\n",
            "Vorma\n",
            "Caa\n",
            "Rora\n",
            "\n",
            "\n",
            "Iteration: 22000, Loss: 14.023233\n",
            "\n",
            "Leystidca\n",
            "Ilda\n",
            "Justia\n",
            "Lea\n",
            "Vorna\n",
            "Caadnica\n",
            "Rusa\n",
            "\n",
            "\n",
            "Iteration: 24000, Loss: 14.139764\n",
            "\n",
            "Littil\n",
            "Kiea\n",
            "Kyttice\n",
            "Lea\n",
            "Vorlel\n",
            "Daa\n",
            "Rrodea\n",
            "\n",
            "\n",
            "Iteration: 26000, Loss: 14.233153\n",
            "\n",
            "Lizrora\n",
            "Joe\n",
            "Kurrian\n",
            "Laca\n",
            "Vornada\n",
            "Daadrn\n",
            "Rosan\n",
            "\n",
            "\n",
            "Iteration: 28000, Loss: 14.187251\n",
            "\n",
            "Keytte\n",
            "Geib\n",
            "Iustie\n",
            "Kaca\n",
            "Vosta\n",
            "Caadlie\n",
            "Rosance\n",
            "\n",
            "\n",
            "Iteration: 30000, Loss: 14.153079\n",
            "\n",
            "Lizrya\n",
            "Jola\n",
            "Jussia\n",
            "Lada\n",
            "Vorra\n",
            "Ela\n",
            "Suraige\n",
            "\n",
            "\n",
            "Iteration: 32000, Loss: 14.057879\n",
            "\n",
            "Liyros\n",
            "Heica\n",
            "Ivkie\n",
            "Lea\n",
            "Voroil\n",
            "Daaine\n",
            "Surcea\n",
            "\n",
            "\n",
            "Iteration: 34000, Loss: 13.817401\n",
            "\n",
            "Kexstia\n",
            "Gela\n",
            "Gustia\n",
            "Kae\n",
            "Vorna\n",
            "Caammie\n",
            "Surana\n",
            "\n",
            "\n",
            "Iteration: 36000, Loss: 13.874179\n",
            "\n",
            "Keyoph\n",
            "Gead\n",
            "Gyorlce\n",
            "Kea\n",
            "Vossa\n",
            "Caalle\n",
            "Rosana\n",
            "\n",
            "\n",
            "Iteration: 38000, Loss: 13.649768\n",
            "\n",
            "Kivqula\n",
            "Gie\n",
            "Hyorl\n",
            "Kae\n",
            "Vussae\n",
            "Daallie\n",
            "Supdie\n",
            "\n",
            "\n",
            "Iteration: 40000, Loss: 13.761387\n",
            "\n",
            "Kayry\n",
            "Gie\n",
            "Gyosta\n",
            "Kaia\n",
            "Voro\n",
            "Caador\n",
            "Rusel\n",
            "\n",
            "\n",
            "Iteration: 42000, Loss: 13.521514\n",
            "\n",
            "Kittina\n",
            "Gie\n",
            "Gustie\n",
            "Kaianne\n",
            "Vosta\n",
            "Caberra\n",
            "Susande\n",
            "\n",
            "\n",
            "Iteration: 44000, Loss: 13.796833\n",
            "\n",
            "Livyne\n",
            "Jola\n",
            "Kystie\n",
            "Lea\n",
            "Vormal\n",
            "El\n",
            "Susama\n",
            "\n",
            "\n",
            "Iteration: 46000, Loss: 13.542121\n",
            "\n",
            "Kistie\n",
            "Gie\n",
            "Hurtra\n",
            "Kae\n",
            "Voro\n",
            "Caberna\n",
            "Sura\n",
            "\n",
            "\n",
            "Iteration: 48000, Loss: 13.530305\n",
            "\n",
            "Kayryn\n",
            "Gela\n",
            "Gyrrlen\n",
            "Kadaanna\n",
            "Vormalena\n",
            "Cabella\n",
            "Rosanna\n",
            "\n",
            "\n"
          ]
        }
      ]
    },
    {
      "cell_type": "code",
      "source": [
        "import pickle\n",
        "# Save the model parameters to a .pickle file\n",
        "with open('parameters_girl.pickle', 'wb') as f:\n",
        "    pickle.dump(parameters, f)\n",
        "\n",
        "print(\"Model parameters saved to parameters_girl.pickle\")"
      ],
      "metadata": {
        "colab": {
          "base_uri": "https://localhost:8080/"
        },
        "id": "TxDDbJY5FUoh",
        "outputId": "40f6f89e-e0db-4ecc-dcf2-b9440e816e98"
      },
      "execution_count": 13,
      "outputs": [
        {
          "output_type": "stream",
          "name": "stdout",
          "text": [
            "Model parameters saved to parameters_girl.pickle\n"
          ]
        }
      ]
    },
    {
      "cell_type": "code",
      "source": [
        "import time\n",
        "# Function to generate girl names\n",
        "def generate_girl_names(parameters, char_to_ix, ix_to_char, num_names=10):\n",
        "    names = []\n",
        "    seed = int(time.time())  # Use current time as seed for randomness\n",
        "    for _ in range(num_names):\n",
        "        sampled_indices = sample(parameters, char_to_ix, seed)\n",
        "        name = ''.join(ix_to_char[ix] for ix in sampled_indices)\n",
        "        names.append(name)\n",
        "        seed += 1\n",
        "    return names\n",
        "\n",
        "# Main function to handle gender input and generate names\n",
        "def generate_names(gender, parameters_girl, char_to_ix, ix_to_char, num_names=10):\n",
        "    if gender.lower() == \"female\":\n",
        "        return generate_girl_names(parameters_girl, char_to_ix, ix_to_char, num_names)\n",
        "    else:\n",
        "        raise ValueError(\"Unsupported gender. Currently only 'female' is supported.\")\n",
        "\n",
        "\n",
        "\n",
        "# Load the model parameters from the .pickle file\n",
        "with open('parameters_girl.pickle', 'rb') as f:\n",
        "    parameters = pickle.load(f)\n",
        "\n",
        "print(\"Model parameters loaded from parameters_girl.pickle\")\n"
      ],
      "metadata": {
        "colab": {
          "base_uri": "https://localhost:8080/"
        },
        "id": "OI9qKk4BgMoc",
        "outputId": "310ab472-6d22-4ea1-e65f-52855ff3dfaa"
      },
      "execution_count": 14,
      "outputs": [
        {
          "output_type": "stream",
          "name": "stdout",
          "text": [
            "Model parameters loaded from parameters_girl.pickle\n"
          ]
        }
      ]
    },
    {
      "cell_type": "code",
      "source": [
        "gender = \"female\"\n",
        "generated_names = generate_names(gender, parameters, char_to_ix, ix_to_char, num_names=10)\n",
        "print(f\"Generated {gender} names:\", generated_names)"
      ],
      "metadata": {
        "colab": {
          "base_uri": "https://localhost:8080/"
        },
        "id": "NTkQF84ogT7b",
        "outputId": "fdc1abea-72f7-44e2-f67a-c399dfff7bd8"
      },
      "execution_count": 16,
      "outputs": [
        {
          "output_type": "stream",
          "name": "stdout",
          "text": [
            "Generated female names: ['bondy\\n', 'ardesta\\n', 'pekrie\\n', 'rellia\\n', 'cerriell\\n', 'berra\\n', 'corlie\\n', 'gindie\\n', 'mongya\\n', 'mickidde\\n']\n"
          ]
        }
      ]
    }
  ]
}